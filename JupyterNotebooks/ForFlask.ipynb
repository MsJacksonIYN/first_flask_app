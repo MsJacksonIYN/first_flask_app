{
 "cells": [
  {
   "cell_type": "markdown",
   "metadata": {},
   "source": [
    "### Imports"
   ]
  },
  {
   "cell_type": "code",
   "execution_count": 1,
   "metadata": {},
   "outputs": [],
   "source": [
    "import pandas as pd\n",
    "import numpy as np\n",
    "import matplotlib.pyplot as plt\n",
    "import seaborn as sns\n",
    "import plotly_express as px"
   ]
  },
  {
   "cell_type": "code",
   "execution_count": 2,
   "metadata": {},
   "outputs": [],
   "source": [
    "pd.set_option('display.max_columns',500)\n",
    "pd.set_option('display.max_rows',500)"
   ]
  },
  {
   "cell_type": "code",
   "execution_count": 5,
   "metadata": {},
   "outputs": [],
   "source": [
    "df = pd.read_csv('/Users/samantha/Desktop/Desktop_MacbookPro/FlatironSchool/section03/PetAdoptionClassification/data/cleaned_df.csv', index_col = 'Unnamed: 0')"
   ]
  },
  {
   "cell_type": "code",
   "execution_count": 6,
   "metadata": {},
   "outputs": [
    {
     "data": {
      "text/html": [
       "<div>\n",
       "<style scoped>\n",
       "    .dataframe tbody tr th:only-of-type {\n",
       "        vertical-align: middle;\n",
       "    }\n",
       "\n",
       "    .dataframe tbody tr th {\n",
       "        vertical-align: top;\n",
       "    }\n",
       "\n",
       "    .dataframe thead th {\n",
       "        text-align: right;\n",
       "    }\n",
       "</style>\n",
       "<table border=\"1\" class=\"dataframe\">\n",
       "  <thead>\n",
       "    <tr style=\"text-align: right;\">\n",
       "      <th></th>\n",
       "      <th>Name</th>\n",
       "      <th>Type</th>\n",
       "      <th>Breed</th>\n",
       "      <th>Color</th>\n",
       "      <th>Sex</th>\n",
       "      <th>Size</th>\n",
       "      <th>Animal ID</th>\n",
       "      <th>Days in Shelter</th>\n",
       "      <th>Intake Type</th>\n",
       "      <th>Intake Subtype</th>\n",
       "      <th>Outcome Type</th>\n",
       "      <th>Intake Condition</th>\n",
       "      <th>Intake Jurisdiction</th>\n",
       "      <th>PredomBreed</th>\n",
       "      <th>PredomColor</th>\n",
       "      <th>DOB</th>\n",
       "      <th>IntakeDate</th>\n",
       "      <th>IntakeAge</th>\n",
       "      <th>IntakeAgeYrs</th>\n",
       "    </tr>\n",
       "  </thead>\n",
       "  <tbody>\n",
       "    <tr>\n",
       "      <th>0</th>\n",
       "      <td>NaN</td>\n",
       "      <td>OTHER</td>\n",
       "      <td>BAT</td>\n",
       "      <td>BROWN</td>\n",
       "      <td>Unknown</td>\n",
       "      <td>SMALL</td>\n",
       "      <td>A384994</td>\n",
       "      <td>0</td>\n",
       "      <td>QUARANTINE</td>\n",
       "      <td>FLD_STRAY</td>\n",
       "      <td>EUTHANIZE</td>\n",
       "      <td>UNKNOWN</td>\n",
       "      <td>*SEBASTOPOL</td>\n",
       "      <td>BAT</td>\n",
       "      <td>BROWN</td>\n",
       "      <td>NaN</td>\n",
       "      <td>2019-03-17</td>\n",
       "      <td>NaN</td>\n",
       "      <td>-1.00</td>\n",
       "    </tr>\n",
       "    <tr>\n",
       "      <th>1</th>\n",
       "      <td>NaN</td>\n",
       "      <td>CAT</td>\n",
       "      <td>DOMESTIC SH</td>\n",
       "      <td>CREAM</td>\n",
       "      <td>Female</td>\n",
       "      <td>SMALL</td>\n",
       "      <td>A372719</td>\n",
       "      <td>0</td>\n",
       "      <td>STRAY</td>\n",
       "      <td>FIELD</td>\n",
       "      <td>EUTHANIZE</td>\n",
       "      <td>TREATABLE/REHAB</td>\n",
       "      <td>SANTA ROSA</td>\n",
       "      <td>DOMESTIC SH</td>\n",
       "      <td>CREAM</td>\n",
       "      <td>NaN</td>\n",
       "      <td>2018-05-21</td>\n",
       "      <td>NaN</td>\n",
       "      <td>-1.00</td>\n",
       "    </tr>\n",
       "    <tr>\n",
       "      <th>2</th>\n",
       "      <td>NaN</td>\n",
       "      <td>OTHER</td>\n",
       "      <td>BAT</td>\n",
       "      <td>BLACK</td>\n",
       "      <td>Unknown</td>\n",
       "      <td>SMALL</td>\n",
       "      <td>A385008</td>\n",
       "      <td>1</td>\n",
       "      <td>QUARANTINE</td>\n",
       "      <td>FLD_STRAY</td>\n",
       "      <td>EUTHANIZE</td>\n",
       "      <td>UNTREATABLE</td>\n",
       "      <td>SANTA ROSA</td>\n",
       "      <td>BAT</td>\n",
       "      <td>BLACK</td>\n",
       "      <td>NaN</td>\n",
       "      <td>2019-03-18</td>\n",
       "      <td>NaN</td>\n",
       "      <td>-1.00</td>\n",
       "    </tr>\n",
       "    <tr>\n",
       "      <th>3</th>\n",
       "      <td>DAISY</td>\n",
       "      <td>CAT</td>\n",
       "      <td>DOMESTIC MH</td>\n",
       "      <td>WHITE/TAN</td>\n",
       "      <td>Spayed</td>\n",
       "      <td>MED</td>\n",
       "      <td>A372551</td>\n",
       "      <td>7</td>\n",
       "      <td>OWNER SURRENDER</td>\n",
       "      <td>OVER THE COUNTER</td>\n",
       "      <td>EUTHANIZE</td>\n",
       "      <td>UNKNOWN</td>\n",
       "      <td>SANTA ROSA</td>\n",
       "      <td>DOMESTIC MH</td>\n",
       "      <td>WHITE</td>\n",
       "      <td>2010-05-15</td>\n",
       "      <td>2018-05-15</td>\n",
       "      <td>2922 days 00:00:00.000000000</td>\n",
       "      <td>8.01</td>\n",
       "    </tr>\n",
       "    <tr>\n",
       "      <th>4</th>\n",
       "      <td>NaN</td>\n",
       "      <td>CAT</td>\n",
       "      <td>DOMESTIC SH</td>\n",
       "      <td>CALICO/SEAL PT</td>\n",
       "      <td>Female</td>\n",
       "      <td>SMALL</td>\n",
       "      <td>A375772</td>\n",
       "      <td>4</td>\n",
       "      <td>STRAY</td>\n",
       "      <td>OVER THE COUNTER</td>\n",
       "      <td>EUTHANIZE</td>\n",
       "      <td>UNTREATABLE</td>\n",
       "      <td>SANTA ROSA</td>\n",
       "      <td>DOMESTIC SH</td>\n",
       "      <td>CALICO</td>\n",
       "      <td>2005-09-04</td>\n",
       "      <td>2018-09-04</td>\n",
       "      <td>4748 days 00:00:00.000000000</td>\n",
       "      <td>13.01</td>\n",
       "    </tr>\n",
       "  </tbody>\n",
       "</table>\n",
       "</div>"
      ],
      "text/plain": [
       "    Name   Type        Breed           Color      Sex   Size Animal ID  \\\n",
       "0    NaN  OTHER          BAT           BROWN  Unknown  SMALL   A384994   \n",
       "1    NaN    CAT  DOMESTIC SH           CREAM   Female  SMALL   A372719   \n",
       "2    NaN  OTHER          BAT           BLACK  Unknown  SMALL   A385008   \n",
       "3  DAISY    CAT  DOMESTIC MH       WHITE/TAN   Spayed    MED   A372551   \n",
       "4    NaN    CAT  DOMESTIC SH  CALICO/SEAL PT   Female  SMALL   A375772   \n",
       "\n",
       "   Days in Shelter      Intake Type    Intake Subtype Outcome Type  \\\n",
       "0                0       QUARANTINE         FLD_STRAY    EUTHANIZE   \n",
       "1                0            STRAY             FIELD    EUTHANIZE   \n",
       "2                1       QUARANTINE         FLD_STRAY    EUTHANIZE   \n",
       "3                7  OWNER SURRENDER  OVER THE COUNTER    EUTHANIZE   \n",
       "4                4            STRAY  OVER THE COUNTER    EUTHANIZE   \n",
       "\n",
       "  Intake Condition Intake Jurisdiction  PredomBreed PredomColor         DOB  \\\n",
       "0          UNKNOWN         *SEBASTOPOL          BAT       BROWN         NaN   \n",
       "1  TREATABLE/REHAB          SANTA ROSA  DOMESTIC SH       CREAM         NaN   \n",
       "2      UNTREATABLE          SANTA ROSA          BAT       BLACK         NaN   \n",
       "3          UNKNOWN          SANTA ROSA  DOMESTIC MH       WHITE  2010-05-15   \n",
       "4      UNTREATABLE          SANTA ROSA  DOMESTIC SH      CALICO  2005-09-04   \n",
       "\n",
       "   IntakeDate                     IntakeAge  IntakeAgeYrs  \n",
       "0  2019-03-17                           NaN         -1.00  \n",
       "1  2018-05-21                           NaN         -1.00  \n",
       "2  2019-03-18                           NaN         -1.00  \n",
       "3  2018-05-15  2922 days 00:00:00.000000000          8.01  \n",
       "4  2018-09-04  4748 days 00:00:00.000000000         13.01  "
      ]
     },
     "execution_count": 6,
     "metadata": {},
     "output_type": "execute_result"
    }
   ],
   "source": [
    "df.head()"
   ]
  },
  {
   "cell_type": "code",
   "execution_count": 7,
   "metadata": {},
   "outputs": [
    {
     "name": "stdout",
     "output_type": "stream",
     "text": [
      "<class 'pandas.core.frame.DataFrame'>\n",
      "Int64Index: 16457 entries, 0 to 16791\n",
      "Data columns (total 19 columns):\n",
      "Name                   12450 non-null object\n",
      "Type                   16457 non-null object\n",
      "Breed                  16457 non-null object\n",
      "Color                  16457 non-null object\n",
      "Sex                    16457 non-null object\n",
      "Size                   16457 non-null object\n",
      "Animal ID              16457 non-null object\n",
      "Days in Shelter        16457 non-null int64\n",
      "Intake Type            16457 non-null object\n",
      "Intake Subtype         16457 non-null object\n",
      "Outcome Type           16457 non-null object\n",
      "Intake Condition       16457 non-null object\n",
      "Intake Jurisdiction    16457 non-null object\n",
      "PredomBreed            16457 non-null object\n",
      "PredomColor            16457 non-null object\n",
      "DOB                    12680 non-null object\n",
      "IntakeDate             16457 non-null object\n",
      "IntakeAge              12680 non-null object\n",
      "IntakeAgeYrs           16457 non-null float64\n",
      "dtypes: float64(1), int64(1), object(17)\n",
      "memory usage: 2.5+ MB\n"
     ]
    }
   ],
   "source": [
    "df.info()"
   ]
  },
  {
   "cell_type": "code",
   "execution_count": 8,
   "metadata": {},
   "outputs": [
    {
     "data": {
      "text/html": [
       "<div>\n",
       "<style scoped>\n",
       "    .dataframe tbody tr th:only-of-type {\n",
       "        vertical-align: middle;\n",
       "    }\n",
       "\n",
       "    .dataframe tbody tr th {\n",
       "        vertical-align: top;\n",
       "    }\n",
       "\n",
       "    .dataframe thead th {\n",
       "        text-align: right;\n",
       "    }\n",
       "</style>\n",
       "<table border=\"1\" class=\"dataframe\">\n",
       "  <thead>\n",
       "    <tr style=\"text-align: right;\">\n",
       "      <th></th>\n",
       "      <th>Days in Shelter</th>\n",
       "      <th>IntakeAgeYrs</th>\n",
       "    </tr>\n",
       "  </thead>\n",
       "  <tbody>\n",
       "    <tr>\n",
       "      <th>count</th>\n",
       "      <td>16457.000000</td>\n",
       "      <td>16457.000000</td>\n",
       "    </tr>\n",
       "    <tr>\n",
       "      <th>mean</th>\n",
       "      <td>17.153734</td>\n",
       "      <td>2.415546</td>\n",
       "    </tr>\n",
       "    <tr>\n",
       "      <th>std</th>\n",
       "      <td>28.458548</td>\n",
       "      <td>3.880925</td>\n",
       "    </tr>\n",
       "    <tr>\n",
       "      <th>min</th>\n",
       "      <td>0.000000</td>\n",
       "      <td>-1.000000</td>\n",
       "    </tr>\n",
       "    <tr>\n",
       "      <th>25%</th>\n",
       "      <td>1.000000</td>\n",
       "      <td>0.080000</td>\n",
       "    </tr>\n",
       "    <tr>\n",
       "      <th>50%</th>\n",
       "      <td>9.000000</td>\n",
       "      <td>0.950000</td>\n",
       "    </tr>\n",
       "    <tr>\n",
       "      <th>75%</th>\n",
       "      <td>22.000000</td>\n",
       "      <td>3.770000</td>\n",
       "    </tr>\n",
       "    <tr>\n",
       "      <th>max</th>\n",
       "      <td>791.000000</td>\n",
       "      <td>25.950000</td>\n",
       "    </tr>\n",
       "  </tbody>\n",
       "</table>\n",
       "</div>"
      ],
      "text/plain": [
       "       Days in Shelter  IntakeAgeYrs\n",
       "count     16457.000000  16457.000000\n",
       "mean         17.153734      2.415546\n",
       "std          28.458548      3.880925\n",
       "min           0.000000     -1.000000\n",
       "25%           1.000000      0.080000\n",
       "50%           9.000000      0.950000\n",
       "75%          22.000000      3.770000\n",
       "max         791.000000     25.950000"
      ]
     },
     "execution_count": 8,
     "metadata": {},
     "output_type": "execute_result"
    }
   ],
   "source": [
    "df.describe()"
   ]
  },
  {
   "cell_type": "code",
   "execution_count": 9,
   "metadata": {},
   "outputs": [
    {
     "data": {
      "text/plain": [
       "Index(['Name', 'Type', 'Breed', 'Color', 'Sex', 'Size', 'Animal ID',\n",
       "       'Days in Shelter', 'Intake Type', 'Intake Subtype', 'Outcome Type',\n",
       "       'Intake Condition', 'Intake Jurisdiction', 'PredomBreed', 'PredomColor',\n",
       "       'DOB', 'IntakeDate', 'IntakeAge', 'IntakeAgeYrs'],\n",
       "      dtype='object')"
      ]
     },
     "execution_count": 9,
     "metadata": {},
     "output_type": "execute_result"
    }
   ],
   "source": [
    "df.columns"
   ]
  },
  {
   "cell_type": "markdown",
   "metadata": {},
   "source": [
    "# Feature Engineering"
   ]
  },
  {
   "cell_type": "code",
   "execution_count": 10,
   "metadata": {},
   "outputs": [],
   "source": [
    "df.drop(['Name','Breed','Color','Animal ID','Intake Subtype', 'DOB','IntakeDate','IntakeAge','IntakeAgeYrs','Intake Condition','Days in Shelter'], axis=1, inplace=True)"
   ]
  },
  {
   "cell_type": "code",
   "execution_count": 53,
   "metadata": {},
   "outputs": [
    {
     "data": {
      "text/html": [
       "<div>\n",
       "<style scoped>\n",
       "    .dataframe tbody tr th:only-of-type {\n",
       "        vertical-align: middle;\n",
       "    }\n",
       "\n",
       "    .dataframe tbody tr th {\n",
       "        vertical-align: top;\n",
       "    }\n",
       "\n",
       "    .dataframe thead th {\n",
       "        text-align: right;\n",
       "    }\n",
       "</style>\n",
       "<table border=\"1\" class=\"dataframe\">\n",
       "  <thead>\n",
       "    <tr style=\"text-align: right;\">\n",
       "      <th></th>\n",
       "      <th>Type</th>\n",
       "      <th>Sex</th>\n",
       "      <th>Size</th>\n",
       "      <th>Intake Type</th>\n",
       "      <th>Outcome Type</th>\n",
       "      <th>Intake Jurisdiction</th>\n",
       "      <th>PredomBreed</th>\n",
       "      <th>PredomColor</th>\n",
       "    </tr>\n",
       "  </thead>\n",
       "  <tbody>\n",
       "    <tr>\n",
       "      <th>0</th>\n",
       "      <td>OTHER</td>\n",
       "      <td>Unknown</td>\n",
       "      <td>SMALL</td>\n",
       "      <td>QUARANTINE</td>\n",
       "      <td>EUTHANIZE</td>\n",
       "      <td>*SEBASTOPOL</td>\n",
       "      <td>BAT</td>\n",
       "      <td>BROWN</td>\n",
       "    </tr>\n",
       "    <tr>\n",
       "      <th>1</th>\n",
       "      <td>CAT</td>\n",
       "      <td>Female</td>\n",
       "      <td>SMALL</td>\n",
       "      <td>STRAY</td>\n",
       "      <td>EUTHANIZE</td>\n",
       "      <td>SANTA ROSA</td>\n",
       "      <td>DOMESTIC SH</td>\n",
       "      <td>CREAM</td>\n",
       "    </tr>\n",
       "    <tr>\n",
       "      <th>2</th>\n",
       "      <td>OTHER</td>\n",
       "      <td>Unknown</td>\n",
       "      <td>SMALL</td>\n",
       "      <td>QUARANTINE</td>\n",
       "      <td>EUTHANIZE</td>\n",
       "      <td>SANTA ROSA</td>\n",
       "      <td>BAT</td>\n",
       "      <td>BLACK</td>\n",
       "    </tr>\n",
       "    <tr>\n",
       "      <th>3</th>\n",
       "      <td>CAT</td>\n",
       "      <td>Spayed</td>\n",
       "      <td>MED</td>\n",
       "      <td>OWNER SURRENDER</td>\n",
       "      <td>EUTHANIZE</td>\n",
       "      <td>SANTA ROSA</td>\n",
       "      <td>DOMESTIC MH</td>\n",
       "      <td>WHITE</td>\n",
       "    </tr>\n",
       "    <tr>\n",
       "      <th>4</th>\n",
       "      <td>CAT</td>\n",
       "      <td>Female</td>\n",
       "      <td>SMALL</td>\n",
       "      <td>STRAY</td>\n",
       "      <td>EUTHANIZE</td>\n",
       "      <td>SANTA ROSA</td>\n",
       "      <td>DOMESTIC SH</td>\n",
       "      <td>CALICO</td>\n",
       "    </tr>\n",
       "    <tr>\n",
       "      <th>5</th>\n",
       "      <td>CAT</td>\n",
       "      <td>Neutered</td>\n",
       "      <td>SMALL</td>\n",
       "      <td>STRAY</td>\n",
       "      <td>EUTHANIZE</td>\n",
       "      <td>WINDSOR</td>\n",
       "      <td>DOMESTIC SH</td>\n",
       "      <td>SEAL PT</td>\n",
       "    </tr>\n",
       "    <tr>\n",
       "      <th>6</th>\n",
       "      <td>DOG</td>\n",
       "      <td>Neutered</td>\n",
       "      <td>LARGE</td>\n",
       "      <td>OWNER SURRENDER</td>\n",
       "      <td>EUTHANIZE</td>\n",
       "      <td>SANTA ROSA</td>\n",
       "      <td>ROTTWEILER</td>\n",
       "      <td>BLACK</td>\n",
       "    </tr>\n",
       "    <tr>\n",
       "      <th>7</th>\n",
       "      <td>CAT</td>\n",
       "      <td>Unknown</td>\n",
       "      <td>KITTN</td>\n",
       "      <td>STRAY</td>\n",
       "      <td>EUTHANIZE</td>\n",
       "      <td>WINDSOR</td>\n",
       "      <td>DOMESTIC SH</td>\n",
       "      <td>BLACK</td>\n",
       "    </tr>\n",
       "    <tr>\n",
       "      <th>8</th>\n",
       "      <td>CAT</td>\n",
       "      <td>Unknown</td>\n",
       "      <td>KITTN</td>\n",
       "      <td>STRAY</td>\n",
       "      <td>EUTHANIZE</td>\n",
       "      <td>WINDSOR</td>\n",
       "      <td>DOMESTIC SH</td>\n",
       "      <td>ORANGE</td>\n",
       "    </tr>\n",
       "    <tr>\n",
       "      <th>9</th>\n",
       "      <td>DOG</td>\n",
       "      <td>Male</td>\n",
       "      <td>LARGE</td>\n",
       "      <td>OWNER SURRENDER</td>\n",
       "      <td>EUTHANIZE</td>\n",
       "      <td>SANTA ROSA</td>\n",
       "      <td>PIT BULL</td>\n",
       "      <td>GRAY</td>\n",
       "    </tr>\n",
       "    <tr>\n",
       "      <th>10</th>\n",
       "      <td>CAT</td>\n",
       "      <td>Male</td>\n",
       "      <td>KITTN</td>\n",
       "      <td>STRAY</td>\n",
       "      <td>EUTHANIZE</td>\n",
       "      <td>*PETALUMA</td>\n",
       "      <td>DOMESTIC SH</td>\n",
       "      <td>BLACK</td>\n",
       "    </tr>\n",
       "    <tr>\n",
       "      <th>11</th>\n",
       "      <td>CAT</td>\n",
       "      <td>Female</td>\n",
       "      <td>KITTN</td>\n",
       "      <td>STRAY</td>\n",
       "      <td>EUTHANIZE</td>\n",
       "      <td>*PETALUMA</td>\n",
       "      <td>DOMESTIC SH</td>\n",
       "      <td>BROWN</td>\n",
       "    </tr>\n",
       "    <tr>\n",
       "      <th>12</th>\n",
       "      <td>DOG</td>\n",
       "      <td>Male</td>\n",
       "      <td>LARGE</td>\n",
       "      <td>STRAY</td>\n",
       "      <td>EUTHANIZE</td>\n",
       "      <td>COUNTY</td>\n",
       "      <td>GERM SHEPHERD</td>\n",
       "      <td>YELLOW</td>\n",
       "    </tr>\n",
       "    <tr>\n",
       "      <th>13</th>\n",
       "      <td>CAT</td>\n",
       "      <td>Unknown</td>\n",
       "      <td>KITTN</td>\n",
       "      <td>STRAY</td>\n",
       "      <td>EUTHANIZE</td>\n",
       "      <td>WINDSOR</td>\n",
       "      <td>DOMESTIC SH</td>\n",
       "      <td>BLACK</td>\n",
       "    </tr>\n",
       "    <tr>\n",
       "      <th>14</th>\n",
       "      <td>DOG</td>\n",
       "      <td>Male</td>\n",
       "      <td>LARGE</td>\n",
       "      <td>STRAY</td>\n",
       "      <td>EUTHANIZE</td>\n",
       "      <td>SANTA ROSA</td>\n",
       "      <td>PIT BULL</td>\n",
       "      <td>BLUE</td>\n",
       "    </tr>\n",
       "    <tr>\n",
       "      <th>15</th>\n",
       "      <td>DOG</td>\n",
       "      <td>Spayed</td>\n",
       "      <td>MED</td>\n",
       "      <td>STRAY</td>\n",
       "      <td>EUTHANIZE</td>\n",
       "      <td>COUNTY</td>\n",
       "      <td>PIT BULL</td>\n",
       "      <td>BLACK</td>\n",
       "    </tr>\n",
       "    <tr>\n",
       "      <th>16</th>\n",
       "      <td>CAT</td>\n",
       "      <td>Unknown</td>\n",
       "      <td>KITTN</td>\n",
       "      <td>STRAY</td>\n",
       "      <td>EUTHANIZE</td>\n",
       "      <td>WINDSOR</td>\n",
       "      <td>DOMESTIC SH</td>\n",
       "      <td>BLACK</td>\n",
       "    </tr>\n",
       "    <tr>\n",
       "      <th>17</th>\n",
       "      <td>CAT</td>\n",
       "      <td>Neutered</td>\n",
       "      <td>SMALL</td>\n",
       "      <td>OWNER SURRENDER</td>\n",
       "      <td>EUTHANIZE</td>\n",
       "      <td>COUNTY</td>\n",
       "      <td>DOMESTIC SH</td>\n",
       "      <td>BROWN</td>\n",
       "    </tr>\n",
       "    <tr>\n",
       "      <th>18</th>\n",
       "      <td>CAT</td>\n",
       "      <td>Unknown</td>\n",
       "      <td>KITTN</td>\n",
       "      <td>STRAY</td>\n",
       "      <td>EUTHANIZE</td>\n",
       "      <td>WINDSOR</td>\n",
       "      <td>DOMESTIC SH</td>\n",
       "      <td>ORANGE</td>\n",
       "    </tr>\n",
       "    <tr>\n",
       "      <th>19</th>\n",
       "      <td>OTHER</td>\n",
       "      <td>Male</td>\n",
       "      <td>MED</td>\n",
       "      <td>CONFISCATE</td>\n",
       "      <td>EUTHANIZE</td>\n",
       "      <td>COUNTY</td>\n",
       "      <td>CHICKEN</td>\n",
       "      <td>RED</td>\n",
       "    </tr>\n",
       "  </tbody>\n",
       "</table>\n",
       "</div>"
      ],
      "text/plain": [
       "     Type       Sex   Size      Intake Type Outcome Type Intake Jurisdiction  \\\n",
       "0   OTHER   Unknown  SMALL       QUARANTINE    EUTHANIZE         *SEBASTOPOL   \n",
       "1     CAT    Female  SMALL            STRAY    EUTHANIZE          SANTA ROSA   \n",
       "2   OTHER   Unknown  SMALL       QUARANTINE    EUTHANIZE          SANTA ROSA   \n",
       "3     CAT    Spayed    MED  OWNER SURRENDER    EUTHANIZE          SANTA ROSA   \n",
       "4     CAT    Female  SMALL            STRAY    EUTHANIZE          SANTA ROSA   \n",
       "5     CAT  Neutered  SMALL            STRAY    EUTHANIZE             WINDSOR   \n",
       "6     DOG  Neutered  LARGE  OWNER SURRENDER    EUTHANIZE          SANTA ROSA   \n",
       "7     CAT   Unknown  KITTN            STRAY    EUTHANIZE             WINDSOR   \n",
       "8     CAT   Unknown  KITTN            STRAY    EUTHANIZE             WINDSOR   \n",
       "9     DOG      Male  LARGE  OWNER SURRENDER    EUTHANIZE          SANTA ROSA   \n",
       "10    CAT      Male  KITTN            STRAY    EUTHANIZE           *PETALUMA   \n",
       "11    CAT    Female  KITTN            STRAY    EUTHANIZE           *PETALUMA   \n",
       "12    DOG      Male  LARGE            STRAY    EUTHANIZE              COUNTY   \n",
       "13    CAT   Unknown  KITTN            STRAY    EUTHANIZE             WINDSOR   \n",
       "14    DOG      Male  LARGE            STRAY    EUTHANIZE          SANTA ROSA   \n",
       "15    DOG    Spayed    MED            STRAY    EUTHANIZE              COUNTY   \n",
       "16    CAT   Unknown  KITTN            STRAY    EUTHANIZE             WINDSOR   \n",
       "17    CAT  Neutered  SMALL  OWNER SURRENDER    EUTHANIZE              COUNTY   \n",
       "18    CAT   Unknown  KITTN            STRAY    EUTHANIZE             WINDSOR   \n",
       "19  OTHER      Male    MED       CONFISCATE    EUTHANIZE              COUNTY   \n",
       "\n",
       "      PredomBreed PredomColor  \n",
       "0             BAT       BROWN  \n",
       "1     DOMESTIC SH       CREAM  \n",
       "2             BAT       BLACK  \n",
       "3     DOMESTIC MH       WHITE  \n",
       "4     DOMESTIC SH      CALICO  \n",
       "5     DOMESTIC SH     SEAL PT  \n",
       "6      ROTTWEILER       BLACK  \n",
       "7     DOMESTIC SH       BLACK  \n",
       "8     DOMESTIC SH      ORANGE  \n",
       "9        PIT BULL        GRAY  \n",
       "10    DOMESTIC SH       BLACK  \n",
       "11    DOMESTIC SH       BROWN  \n",
       "12  GERM SHEPHERD      YELLOW  \n",
       "13    DOMESTIC SH       BLACK  \n",
       "14       PIT BULL        BLUE  \n",
       "15       PIT BULL       BLACK  \n",
       "16    DOMESTIC SH       BLACK  \n",
       "17    DOMESTIC SH       BROWN  \n",
       "18    DOMESTIC SH      ORANGE  \n",
       "19        CHICKEN         RED  "
      ]
     },
     "execution_count": 53,
     "metadata": {},
     "output_type": "execute_result"
    }
   ],
   "source": [
    "df.head(20)"
   ]
  },
  {
   "cell_type": "code",
   "execution_count": 63,
   "metadata": {},
   "outputs": [
    {
     "data": {
      "text/plain": [
       "BLACK        4730\n",
       "BROWN        3294\n",
       "WHITE        2137\n",
       "GRAY         1392\n",
       "TAN          1333\n",
       "BLUE          540\n",
       "ORANGE        446\n",
       "RED           428\n",
       "TRICOLOR      415\n",
       "TORTIE        253\n",
       "OTHER         242\n",
       "YELLOW        217\n",
       "CALICO        184\n",
       "FAWN          151\n",
       "SEAL PT       134\n",
       "LYNX          129\n",
       "CHOCOLATE     127\n",
       "BUFF          106\n",
       "CREAM         103\n",
       "GOLD           96\n",
       "Name: PredomColor, dtype: int64"
      ]
     },
     "execution_count": 63,
     "metadata": {},
     "output_type": "execute_result"
    }
   ],
   "source": [
    "df['PredomColor'].value_counts()"
   ]
  },
  {
   "cell_type": "code",
   "execution_count": 12,
   "metadata": {},
   "outputs": [
    {
     "data": {
      "text/plain": [
       "<matplotlib.axes._subplots.AxesSubplot at 0x1a248bf7f0>"
      ]
     },
     "execution_count": 12,
     "metadata": {},
     "output_type": "execute_result"
    },
    {
     "data": {
      "image/png": "[encoded data removed]",
      "text/plain": [
       "<Figure size 432x288 with 1 Axes>"
      ]
     },
     "metadata": {
      "needs_background": "light"
     },
     "output_type": "display_data"
    }
   ],
   "source": [
    "sns.heatmap(df.isnull(),yticklabels = False, cbar = False,cmap = 'tab20c_r')"
   ]
  },
  {
   "cell_type": "code",
   "execution_count": 13,
   "metadata": {},
   "outputs": [],
   "source": [
    "df.reset_index(drop=True, inplace=True)"
   ]
  },
  {
   "cell_type": "markdown",
   "metadata": {},
   "source": [
    "## Label Encoding"
   ]
  },
  {
   "cell_type": "code",
   "execution_count": 14,
   "metadata": {},
   "outputs": [],
   "source": [
    "from sklearn.preprocessing import LabelEncoder, PolynomialFeatures"
   ]
  },
  {
   "cell_type": "code",
   "execution_count": 23,
   "metadata": {},
   "outputs": [],
   "source": [
    "import pickle"
   ]
  },
  {
   "cell_type": "code",
   "execution_count": 15,
   "metadata": {},
   "outputs": [],
   "source": [
    "from collections import defaultdict"
   ]
  },
  {
   "cell_type": "code",
   "execution_count": 16,
   "metadata": {},
   "outputs": [],
   "source": [
    "d = defaultdict(LabelEncoder)"
   ]
  },
  {
   "cell_type": "code",
   "execution_count": 18,
   "metadata": {},
   "outputs": [],
   "source": [
    "# Encoding the variable\n",
    "fit = df.apply(lambda x: d[x.name].fit_transform(x))\n",
    "\n",
    "# Inverse the encoded\n",
    "fit.apply(lambda x: d[x.name].inverse_transform(x))\n",
    "\n",
    "# Using the dictionary to label future data\n",
    "encoded = df.apply(lambda x: d[x.name].transform(x))"
   ]
  },
  {
   "cell_type": "code",
   "execution_count": 19,
   "metadata": {},
   "outputs": [
    {
     "data": {
      "text/html": [
       "<div>\n",
       "<style scoped>\n",
       "    .dataframe tbody tr th:only-of-type {\n",
       "        vertical-align: middle;\n",
       "    }\n",
       "\n",
       "    .dataframe tbody tr th {\n",
       "        vertical-align: top;\n",
       "    }\n",
       "\n",
       "    .dataframe thead th {\n",
       "        text-align: right;\n",
       "    }\n",
       "</style>\n",
       "<table border=\"1\" class=\"dataframe\">\n",
       "  <thead>\n",
       "    <tr style=\"text-align: right;\">\n",
       "      <th></th>\n",
       "      <th>Type</th>\n",
       "      <th>Sex</th>\n",
       "      <th>Size</th>\n",
       "      <th>Intake Type</th>\n",
       "      <th>Outcome Type</th>\n",
       "      <th>Intake Jurisdiction</th>\n",
       "      <th>PredomBreed</th>\n",
       "      <th>PredomColor</th>\n",
       "    </tr>\n",
       "  </thead>\n",
       "  <tbody>\n",
       "    <tr>\n",
       "      <th>0</th>\n",
       "      <td>2</td>\n",
       "      <td>4</td>\n",
       "      <td>4</td>\n",
       "      <td>3</td>\n",
       "      <td>1</td>\n",
       "      <td>5</td>\n",
       "      <td>6</td>\n",
       "      <td>2</td>\n",
       "    </tr>\n",
       "  </tbody>\n",
       "</table>\n",
       "</div>"
      ],
      "text/plain": [
       "   Type  Sex  Size  Intake Type  Outcome Type  Intake Jurisdiction  \\\n",
       "0     2    4     4            3             1                    5   \n",
       "\n",
       "   PredomBreed  PredomColor  \n",
       "0            6            2  "
      ]
     },
     "execution_count": 19,
     "metadata": {},
     "output_type": "execute_result"
    }
   ],
   "source": [
    "testlist = pd.DataFrame(df.iloc[0,:].copy()).T\n",
    "\n",
    "testlist.apply(lambda x: d[x.name].transform(x))"
   ]
  },
  {
   "cell_type": "code",
   "execution_count": 24,
   "metadata": {},
   "outputs": [],
   "source": [
    "encoder_pickle_path = 'encoder.pkl'\n",
    "\n",
    "# Create an variable to pickle and open it in write mode\n",
    "encoder_pickle = open(encoder_pickle_path, 'wb')\n",
    "pickle.dump(d, encoder_pickle)\n",
    "encoder_pickle.close()"
   ]
  },
  {
   "cell_type": "code",
   "execution_count": 25,
   "metadata": {},
   "outputs": [],
   "source": [
    "modeling = encoded.copy()"
   ]
  },
  {
   "cell_type": "code",
   "execution_count": 26,
   "metadata": {},
   "outputs": [
    {
     "name": "stdout",
     "output_type": "stream",
     "text": [
      "<class 'pandas.core.frame.DataFrame'>\n",
      "RangeIndex: 16457 entries, 0 to 16456\n",
      "Data columns (total 8 columns):\n",
      "Type                   16457 non-null int64\n",
      "Sex                    16457 non-null int64\n",
      "Size                   16457 non-null int64\n",
      "Intake Type            16457 non-null int64\n",
      "Outcome Type           16457 non-null int64\n",
      "Intake Jurisdiction    16457 non-null int64\n",
      "PredomBreed            16457 non-null int64\n",
      "PredomColor            16457 non-null int64\n",
      "dtypes: int64(8)\n",
      "memory usage: 1.0 MB\n"
     ]
    }
   ],
   "source": [
    "modeling.info()"
   ]
  },
  {
   "cell_type": "code",
   "execution_count": 27,
   "metadata": {},
   "outputs": [
    {
     "data": {
      "text/plain": [
       "<matplotlib.axes._subplots.AxesSubplot at 0x1a2578eef0>"
      ]
     },
     "execution_count": 27,
     "metadata": {},
     "output_type": "execute_result"
    },
    {
     "data": {
      "image/png": "[encoded data removed]",
      "text/plain": [
       "<Figure size 432x288 with 1 Axes>"
      ]
     },
     "metadata": {
      "needs_background": "light"
     },
     "output_type": "display_data"
    }
   ],
   "source": [
    "sns.heatmap(modeling.isnull(),yticklabels = False, cbar = False,cmap = 'tab20c_r')"
   ]
  },
  {
   "cell_type": "markdown",
   "metadata": {},
   "source": [
    "## Interaction Features"
   ]
  },
  {
   "cell_type": "code",
   "execution_count": 28,
   "metadata": {},
   "outputs": [],
   "source": [
    "features = modeling.drop(['Outcome Type'], axis = 1).copy()"
   ]
  },
  {
   "cell_type": "code",
   "execution_count": 29,
   "metadata": {},
   "outputs": [],
   "source": [
    "poly = PolynomialFeatures(interaction_only=True, include_bias=False)"
   ]
  },
  {
   "cell_type": "code",
   "execution_count": 30,
   "metadata": {},
   "outputs": [],
   "source": [
    "features = pd.DataFrame(poly.fit_transform(features), columns=poly.get_feature_names(input_features=features.columns))"
   ]
  },
  {
   "cell_type": "code",
   "execution_count": 35,
   "metadata": {},
   "outputs": [],
   "source": [
    "poly_pickle_path = 'interaction_maker.pkl'\n",
    "\n",
    "# Create an variable to pickle and open it in write mode\n",
    "poly_pickle = open(poly_pickle_path, 'wb')\n",
    "pickle.dump(poly, poly_pickle)\n",
    "poly_pickle.close()"
   ]
  },
  {
   "cell_type": "code",
   "execution_count": 31,
   "metadata": {},
   "outputs": [
    {
     "data": {
      "text/html": [
       "<div>\n",
       "<style scoped>\n",
       "    .dataframe tbody tr th:only-of-type {\n",
       "        vertical-align: middle;\n",
       "    }\n",
       "\n",
       "    .dataframe tbody tr th {\n",
       "        vertical-align: top;\n",
       "    }\n",
       "\n",
       "    .dataframe thead th {\n",
       "        text-align: right;\n",
       "    }\n",
       "</style>\n",
       "<table border=\"1\" class=\"dataframe\">\n",
       "  <thead>\n",
       "    <tr style=\"text-align: right;\">\n",
       "      <th></th>\n",
       "      <th>Type</th>\n",
       "      <th>Sex</th>\n",
       "      <th>Size</th>\n",
       "      <th>Intake Type</th>\n",
       "      <th>Intake Jurisdiction</th>\n",
       "      <th>PredomBreed</th>\n",
       "      <th>PredomColor</th>\n",
       "      <th>Type Sex</th>\n",
       "      <th>Type Size</th>\n",
       "      <th>Type Intake Type</th>\n",
       "      <th>Type Intake Jurisdiction</th>\n",
       "      <th>Type PredomBreed</th>\n",
       "      <th>Type PredomColor</th>\n",
       "      <th>Sex Size</th>\n",
       "      <th>Sex Intake Type</th>\n",
       "      <th>Sex Intake Jurisdiction</th>\n",
       "      <th>Sex PredomBreed</th>\n",
       "      <th>Sex PredomColor</th>\n",
       "      <th>Size Intake Type</th>\n",
       "      <th>Size Intake Jurisdiction</th>\n",
       "      <th>Size PredomBreed</th>\n",
       "      <th>Size PredomColor</th>\n",
       "      <th>Intake Type Intake Jurisdiction</th>\n",
       "      <th>Intake Type PredomBreed</th>\n",
       "      <th>Intake Type PredomColor</th>\n",
       "      <th>Intake Jurisdiction PredomBreed</th>\n",
       "      <th>Intake Jurisdiction PredomColor</th>\n",
       "      <th>PredomBreed PredomColor</th>\n",
       "    </tr>\n",
       "  </thead>\n",
       "  <tbody>\n",
       "    <tr>\n",
       "      <th>count</th>\n",
       "      <td>16457.000000</td>\n",
       "      <td>16457.000000</td>\n",
       "      <td>16457.000000</td>\n",
       "      <td>16457.000000</td>\n",
       "      <td>16457.000000</td>\n",
       "      <td>16457.000000</td>\n",
       "      <td>16457.000000</td>\n",
       "      <td>16457.000000</td>\n",
       "      <td>16457.000000</td>\n",
       "      <td>16457.000000</td>\n",
       "      <td>16457.000000</td>\n",
       "      <td>16457.000000</td>\n",
       "      <td>16457.000000</td>\n",
       "      <td>16457.000000</td>\n",
       "      <td>16457.000000</td>\n",
       "      <td>16457.000000</td>\n",
       "      <td>16457.000000</td>\n",
       "      <td>16457.000000</td>\n",
       "      <td>16457.000000</td>\n",
       "      <td>16457.000000</td>\n",
       "      <td>16457.000000</td>\n",
       "      <td>16457.000000</td>\n",
       "      <td>16457.000000</td>\n",
       "      <td>16457.000000</td>\n",
       "      <td>16457.000000</td>\n",
       "      <td>16457.000000</td>\n",
       "      <td>16457.000000</td>\n",
       "      <td>16457.000000</td>\n",
       "    </tr>\n",
       "    <tr>\n",
       "      <th>mean</th>\n",
       "      <td>0.722428</td>\n",
       "      <td>2.066962</td>\n",
       "      <td>2.513642</td>\n",
       "      <td>3.445342</td>\n",
       "      <td>9.143890</td>\n",
       "      <td>28.010026</td>\n",
       "      <td>6.928055</td>\n",
       "      <td>1.369630</td>\n",
       "      <td>2.020781</td>\n",
       "      <td>2.468858</td>\n",
       "      <td>6.621134</td>\n",
       "      <td>22.158656</td>\n",
       "      <td>5.668955</td>\n",
       "      <td>5.139697</td>\n",
       "      <td>7.123169</td>\n",
       "      <td>18.881570</td>\n",
       "      <td>56.859877</td>\n",
       "      <td>13.967977</td>\n",
       "      <td>8.614814</td>\n",
       "      <td>23.145531</td>\n",
       "      <td>69.260254</td>\n",
       "      <td>19.044601</td>\n",
       "      <td>31.566628</td>\n",
       "      <td>96.605092</td>\n",
       "      <td>23.856171</td>\n",
       "      <td>256.825545</td>\n",
       "      <td>63.462843</td>\n",
       "      <td>201.205505</td>\n",
       "    </tr>\n",
       "    <tr>\n",
       "      <th>std</th>\n",
       "      <td>0.592350</td>\n",
       "      <td>1.114992</td>\n",
       "      <td>1.666012</td>\n",
       "      <td>1.100699</td>\n",
       "      <td>1.397513</td>\n",
       "      <td>12.599100</td>\n",
       "      <td>7.044173</td>\n",
       "      <td>1.627586</td>\n",
       "      <td>2.284181</td>\n",
       "      <td>2.279326</td>\n",
       "      <td>5.534907</td>\n",
       "      <td>22.744486</td>\n",
       "      <td>8.642696</td>\n",
       "      <td>4.898346</td>\n",
       "      <td>4.669493</td>\n",
       "      <td>10.631307</td>\n",
       "      <td>40.974095</td>\n",
       "      <td>17.684853</td>\n",
       "      <td>6.631386</td>\n",
       "      <td>15.996020</td>\n",
       "      <td>56.944013</td>\n",
       "      <td>25.636332</td>\n",
       "      <td>11.219241</td>\n",
       "      <td>55.115894</td>\n",
       "      <td>26.664185</td>\n",
       "      <td>124.665166</td>\n",
       "      <td>66.058703</td>\n",
       "      <td>249.102307</td>\n",
       "    </tr>\n",
       "    <tr>\n",
       "      <th>min</th>\n",
       "      <td>0.000000</td>\n",
       "      <td>0.000000</td>\n",
       "      <td>0.000000</td>\n",
       "      <td>0.000000</td>\n",
       "      <td>0.000000</td>\n",
       "      <td>0.000000</td>\n",
       "      <td>0.000000</td>\n",
       "      <td>0.000000</td>\n",
       "      <td>0.000000</td>\n",
       "      <td>0.000000</td>\n",
       "      <td>0.000000</td>\n",
       "      <td>0.000000</td>\n",
       "      <td>0.000000</td>\n",
       "      <td>0.000000</td>\n",
       "      <td>0.000000</td>\n",
       "      <td>0.000000</td>\n",
       "      <td>0.000000</td>\n",
       "      <td>0.000000</td>\n",
       "      <td>0.000000</td>\n",
       "      <td>0.000000</td>\n",
       "      <td>0.000000</td>\n",
       "      <td>0.000000</td>\n",
       "      <td>0.000000</td>\n",
       "      <td>0.000000</td>\n",
       "      <td>0.000000</td>\n",
       "      <td>0.000000</td>\n",
       "      <td>0.000000</td>\n",
       "      <td>0.000000</td>\n",
       "    </tr>\n",
       "    <tr>\n",
       "      <th>25%</th>\n",
       "      <td>0.000000</td>\n",
       "      <td>1.000000</td>\n",
       "      <td>1.000000</td>\n",
       "      <td>4.000000</td>\n",
       "      <td>8.000000</td>\n",
       "      <td>21.000000</td>\n",
       "      <td>0.000000</td>\n",
       "      <td>0.000000</td>\n",
       "      <td>0.000000</td>\n",
       "      <td>0.000000</td>\n",
       "      <td>0.000000</td>\n",
       "      <td>0.000000</td>\n",
       "      <td>0.000000</td>\n",
       "      <td>0.000000</td>\n",
       "      <td>4.000000</td>\n",
       "      <td>10.000000</td>\n",
       "      <td>30.000000</td>\n",
       "      <td>0.000000</td>\n",
       "      <td>4.000000</td>\n",
       "      <td>8.000000</td>\n",
       "      <td>25.000000</td>\n",
       "      <td>0.000000</td>\n",
       "      <td>30.000000</td>\n",
       "      <td>56.000000</td>\n",
       "      <td>0.000000</td>\n",
       "      <td>176.000000</td>\n",
       "      <td>0.000000</td>\n",
       "      <td>0.000000</td>\n",
       "    </tr>\n",
       "    <tr>\n",
       "      <th>50%</th>\n",
       "      <td>1.000000</td>\n",
       "      <td>2.000000</td>\n",
       "      <td>2.000000</td>\n",
       "      <td>4.000000</td>\n",
       "      <td>10.000000</td>\n",
       "      <td>22.000000</td>\n",
       "      <td>2.000000</td>\n",
       "      <td>1.000000</td>\n",
       "      <td>1.000000</td>\n",
       "      <td>3.000000</td>\n",
       "      <td>8.000000</td>\n",
       "      <td>15.000000</td>\n",
       "      <td>0.000000</td>\n",
       "      <td>4.000000</td>\n",
       "      <td>8.000000</td>\n",
       "      <td>20.000000</td>\n",
       "      <td>45.000000</td>\n",
       "      <td>4.000000</td>\n",
       "      <td>8.000000</td>\n",
       "      <td>20.000000</td>\n",
       "      <td>66.000000</td>\n",
       "      <td>6.000000</td>\n",
       "      <td>32.000000</td>\n",
       "      <td>88.000000</td>\n",
       "      <td>8.000000</td>\n",
       "      <td>220.000000</td>\n",
       "      <td>20.000000</td>\n",
       "      <td>80.000000</td>\n",
       "    </tr>\n",
       "    <tr>\n",
       "      <th>75%</th>\n",
       "      <td>1.000000</td>\n",
       "      <td>3.000000</td>\n",
       "      <td>4.000000</td>\n",
       "      <td>4.000000</td>\n",
       "      <td>10.000000</td>\n",
       "      <td>38.000000</td>\n",
       "      <td>15.000000</td>\n",
       "      <td>2.000000</td>\n",
       "      <td>4.000000</td>\n",
       "      <td>4.000000</td>\n",
       "      <td>10.000000</td>\n",
       "      <td>40.000000</td>\n",
       "      <td>13.000000</td>\n",
       "      <td>8.000000</td>\n",
       "      <td>12.000000</td>\n",
       "      <td>24.000000</td>\n",
       "      <td>84.000000</td>\n",
       "      <td>27.000000</td>\n",
       "      <td>16.000000</td>\n",
       "      <td>40.000000</td>\n",
       "      <td>88.000000</td>\n",
       "      <td>36.000000</td>\n",
       "      <td>40.000000</td>\n",
       "      <td>144.000000</td>\n",
       "      <td>44.000000</td>\n",
       "      <td>336.000000</td>\n",
       "      <td>120.000000</td>\n",
       "      <td>308.000000</td>\n",
       "    </tr>\n",
       "    <tr>\n",
       "      <th>max</th>\n",
       "      <td>2.000000</td>\n",
       "      <td>4.000000</td>\n",
       "      <td>6.000000</td>\n",
       "      <td>5.000000</td>\n",
       "      <td>12.000000</td>\n",
       "      <td>56.000000</td>\n",
       "      <td>19.000000</td>\n",
       "      <td>8.000000</td>\n",
       "      <td>12.000000</td>\n",
       "      <td>10.000000</td>\n",
       "      <td>24.000000</td>\n",
       "      <td>104.000000</td>\n",
       "      <td>38.000000</td>\n",
       "      <td>24.000000</td>\n",
       "      <td>20.000000</td>\n",
       "      <td>48.000000</td>\n",
       "      <td>220.000000</td>\n",
       "      <td>76.000000</td>\n",
       "      <td>30.000000</td>\n",
       "      <td>72.000000</td>\n",
       "      <td>300.000000</td>\n",
       "      <td>114.000000</td>\n",
       "      <td>60.000000</td>\n",
       "      <td>280.000000</td>\n",
       "      <td>95.000000</td>\n",
       "      <td>672.000000</td>\n",
       "      <td>228.000000</td>\n",
       "      <td>1008.000000</td>\n",
       "    </tr>\n",
       "  </tbody>\n",
       "</table>\n",
       "</div>"
      ],
      "text/plain": [
       "               Type           Sex          Size   Intake Type  \\\n",
       "count  16457.000000  16457.000000  16457.000000  16457.000000   \n",
       "mean       0.722428      2.066962      2.513642      3.445342   \n",
       "std        0.592350      1.114992      1.666012      1.100699   \n",
       "min        0.000000      0.000000      0.000000      0.000000   \n",
       "25%        0.000000      1.000000      1.000000      4.000000   \n",
       "50%        1.000000      2.000000      2.000000      4.000000   \n",
       "75%        1.000000      3.000000      4.000000      4.000000   \n",
       "max        2.000000      4.000000      6.000000      5.000000   \n",
       "\n",
       "       Intake Jurisdiction   PredomBreed   PredomColor      Type Sex  \\\n",
       "count         16457.000000  16457.000000  16457.000000  16457.000000   \n",
       "mean              9.143890     28.010026      6.928055      1.369630   \n",
       "std               1.397513     12.599100      7.044173      1.627586   \n",
       "min               0.000000      0.000000      0.000000      0.000000   \n",
       "25%               8.000000     21.000000      0.000000      0.000000   \n",
       "50%              10.000000     22.000000      2.000000      1.000000   \n",
       "75%              10.000000     38.000000     15.000000      2.000000   \n",
       "max              12.000000     56.000000     19.000000      8.000000   \n",
       "\n",
       "          Type Size  Type Intake Type  Type Intake Jurisdiction  \\\n",
       "count  16457.000000      16457.000000              16457.000000   \n",
       "mean       2.020781          2.468858                  6.621134   \n",
       "std        2.284181          2.279326                  5.534907   \n",
       "min        0.000000          0.000000                  0.000000   \n",
       "25%        0.000000          0.000000                  0.000000   \n",
       "50%        1.000000          3.000000                  8.000000   \n",
       "75%        4.000000          4.000000                 10.000000   \n",
       "max       12.000000         10.000000                 24.000000   \n",
       "\n",
       "       Type PredomBreed  Type PredomColor      Sex Size  Sex Intake Type  \\\n",
       "count      16457.000000      16457.000000  16457.000000     16457.000000   \n",
       "mean          22.158656          5.668955      5.139697         7.123169   \n",
       "std           22.744486          8.642696      4.898346         4.669493   \n",
       "min            0.000000          0.000000      0.000000         0.000000   \n",
       "25%            0.000000          0.000000      0.000000         4.000000   \n",
       "50%           15.000000          0.000000      4.000000         8.000000   \n",
       "75%           40.000000         13.000000      8.000000        12.000000   \n",
       "max          104.000000         38.000000     24.000000        20.000000   \n",
       "\n",
       "       Sex Intake Jurisdiction  Sex PredomBreed  Sex PredomColor  \\\n",
       "count             16457.000000     16457.000000     16457.000000   \n",
       "mean                 18.881570        56.859877        13.967977   \n",
       "std                  10.631307        40.974095        17.684853   \n",
       "min                   0.000000         0.000000         0.000000   \n",
       "25%                  10.000000        30.000000         0.000000   \n",
       "50%                  20.000000        45.000000         4.000000   \n",
       "75%                  24.000000        84.000000        27.000000   \n",
       "max                  48.000000       220.000000        76.000000   \n",
       "\n",
       "       Size Intake Type  Size Intake Jurisdiction  Size PredomBreed  \\\n",
       "count      16457.000000              16457.000000      16457.000000   \n",
       "mean           8.614814                 23.145531         69.260254   \n",
       "std            6.631386                 15.996020         56.944013   \n",
       "min            0.000000                  0.000000          0.000000   \n",
       "25%            4.000000                  8.000000         25.000000   \n",
       "50%            8.000000                 20.000000         66.000000   \n",
       "75%           16.000000                 40.000000         88.000000   \n",
       "max           30.000000                 72.000000        300.000000   \n",
       "\n",
       "       Size PredomColor  Intake Type Intake Jurisdiction  \\\n",
       "count      16457.000000                     16457.000000   \n",
       "mean          19.044601                        31.566628   \n",
       "std           25.636332                        11.219241   \n",
       "min            0.000000                         0.000000   \n",
       "25%            0.000000                        30.000000   \n",
       "50%            6.000000                        32.000000   \n",
       "75%           36.000000                        40.000000   \n",
       "max          114.000000                        60.000000   \n",
       "\n",
       "       Intake Type PredomBreed  Intake Type PredomColor  \\\n",
       "count             16457.000000             16457.000000   \n",
       "mean                 96.605092                23.856171   \n",
       "std                  55.115894                26.664185   \n",
       "min                   0.000000                 0.000000   \n",
       "25%                  56.000000                 0.000000   \n",
       "50%                  88.000000                 8.000000   \n",
       "75%                 144.000000                44.000000   \n",
       "max                 280.000000                95.000000   \n",
       "\n",
       "       Intake Jurisdiction PredomBreed  Intake Jurisdiction PredomColor  \\\n",
       "count                     16457.000000                     16457.000000   \n",
       "mean                        256.825545                        63.462843   \n",
       "std                         124.665166                        66.058703   \n",
       "min                           0.000000                         0.000000   \n",
       "25%                         176.000000                         0.000000   \n",
       "50%                         220.000000                        20.000000   \n",
       "75%                         336.000000                       120.000000   \n",
       "max                         672.000000                       228.000000   \n",
       "\n",
       "       PredomBreed PredomColor  \n",
       "count             16457.000000  \n",
       "mean                201.205505  \n",
       "std                 249.102307  \n",
       "min                   0.000000  \n",
       "25%                   0.000000  \n",
       "50%                  80.000000  \n",
       "75%                 308.000000  \n",
       "max                1008.000000  "
      ]
     },
     "execution_count": 31,
     "metadata": {},
     "output_type": "execute_result"
    }
   ],
   "source": [
    "features.describe()"
   ]
  },
  {
   "cell_type": "code",
   "execution_count": 32,
   "metadata": {},
   "outputs": [],
   "source": [
    "modeling = pd.concat([features, modeling['Outcome Type']],axis=1)"
   ]
  },
  {
   "cell_type": "code",
   "execution_count": 33,
   "metadata": {},
   "outputs": [
    {
     "data": {
      "text/plain": [
       "<matplotlib.axes._subplots.AxesSubplot at 0x1a257cefd0>"
      ]
     },
     "execution_count": 33,
     "metadata": {},
     "output_type": "execute_result"
    },
    {
     "data": {
      "image/png": "[encoded data removed]",
      "text/plain": [
       "<Figure size 432x288 with 1 Axes>"
      ]
     },
     "metadata": {
      "needs_background": "light"
     },
     "output_type": "display_data"
    }
   ],
   "source": [
    "sns.heatmap(modeling.isnull(),yticklabels = False, cbar = False,cmap = 'tab20c_r')"
   ]
  },
  {
   "cell_type": "code",
   "execution_count": 34,
   "metadata": {},
   "outputs": [],
   "source": [
    "modeling.to_csv('modeling_data_for_flask.csv')"
   ]
  },
  {
   "cell_type": "markdown",
   "metadata": {},
   "source": [
    "# Train Test Split"
   ]
  },
  {
   "cell_type": "code",
   "execution_count": 36,
   "metadata": {},
   "outputs": [],
   "source": [
    "from sklearn.model_selection import train_test_split"
   ]
  },
  {
   "cell_type": "code",
   "execution_count": 37,
   "metadata": {},
   "outputs": [],
   "source": [
    "X_train, X_test, y_train, y_test = train_test_split(modeling.drop('Outcome Type', axis=1), modeling['Outcome Type'], test_size=0.2, random_state=42)"
   ]
  },
  {
   "cell_type": "markdown",
   "metadata": {},
   "source": [
    "# Models"
   ]
  },
  {
   "cell_type": "code",
   "execution_count": 38,
   "metadata": {},
   "outputs": [],
   "source": [
    "from sklearn.metrics import confusion_matrix, classification_report, f1_score, accuracy_score"
   ]
  },
  {
   "cell_type": "code",
   "execution_count": 39,
   "metadata": {},
   "outputs": [
    {
     "data": {
      "text/plain": [
       "array(['ADOPTION', 'EUTHANIZE', 'RETURN TO OWNER', 'TRANSFER'],\n",
       "      dtype=object)"
      ]
     },
     "execution_count": 39,
     "metadata": {},
     "output_type": "execute_result"
    }
   ],
   "source": [
    "d['Outcome Type'].inverse_transform([0,1,2,3])"
   ]
  },
  {
   "cell_type": "markdown",
   "metadata": {},
   "source": [
    "## XGBoosted"
   ]
  },
  {
   "cell_type": "code",
   "execution_count": 40,
   "metadata": {},
   "outputs": [],
   "source": [
    "import os\n",
    "os.environ['KMP_DUPLICATE_LIB_OK']='True'\n",
    "from xgboost import XGBClassifier"
   ]
  },
  {
   "cell_type": "code",
   "execution_count": 44,
   "metadata": {},
   "outputs": [],
   "source": [
    "from sklearn.model_selection import RandomizedSearchCV"
   ]
  },
  {
   "cell_type": "code",
   "execution_count": 41,
   "metadata": {},
   "outputs": [],
   "source": [
    "xgb = XGBClassifier(objective='multi:softmax',booster='gbtree',colsample_bytree=0.3,learning_rate=0.2, \n",
    "                    reg_lambda=1)"
   ]
  },
  {
   "cell_type": "markdown",
   "metadata": {},
   "source": [
    "### Without Upsampling"
   ]
  },
  {
   "cell_type": "code",
   "execution_count": 42,
   "metadata": {},
   "outputs": [],
   "source": [
    "params_xgb = dict(max_depth=[3,5,10],n_estimators=[50,100,150])"
   ]
  },
  {
   "cell_type": "code",
   "execution_count": 45,
   "metadata": {},
   "outputs": [],
   "source": [
    "rs_xgb = RandomizedSearchCV(xgb, params_xgb, cv=10,scoring='accuracy', verbose=10, n_jobs=-1)"
   ]
  },
  {
   "cell_type": "code",
   "execution_count": 46,
   "metadata": {},
   "outputs": [
    {
     "name": "stdout",
     "output_type": "stream",
     "text": [
      "Fitting 10 folds for each of 9 candidates, totalling 90 fits\n"
     ]
    },
    {
     "name": "stderr",
     "output_type": "stream",
     "text": [
      "/Users/samantha/anaconda3/lib/python3.7/site-packages/sklearn/model_selection/_search.py:271: UserWarning:\n",
      "\n",
      "The total space of parameters 9 is smaller than n_iter=10. Running 9 iterations. For exhaustive searches, use GridSearchCV.\n",
      "\n",
      "[Parallel(n_jobs=-1)]: Using backend LokyBackend with 4 concurrent workers.\n",
      "[Parallel(n_jobs=-1)]: Done   5 tasks      | elapsed:   12.7s\n",
      "[Parallel(n_jobs=-1)]: Done  10 tasks      | elapsed:   17.5s\n",
      "[Parallel(n_jobs=-1)]: Done  17 tasks      | elapsed:   37.0s\n",
      "[Parallel(n_jobs=-1)]: Done  24 tasks      | elapsed:   57.7s\n",
      "[Parallel(n_jobs=-1)]: Done  33 tasks      | elapsed:  1.4min\n",
      "[Parallel(n_jobs=-1)]: Done  42 tasks      | elapsed:  1.8min\n",
      "[Parallel(n_jobs=-1)]: Done  53 tasks      | elapsed:  2.5min\n",
      "[Parallel(n_jobs=-1)]: Done  64 tasks      | elapsed:  3.1min\n",
      "[Parallel(n_jobs=-1)]: Done  77 tasks      | elapsed:  4.0min\n",
      "[Parallel(n_jobs=-1)]: Done  90 out of  90 | elapsed:  5.5min finished\n"
     ]
    },
    {
     "data": {
      "text/plain": [
       "RandomizedSearchCV(cv=10, error_score='raise-deprecating',\n",
       "          estimator=XGBClassifier(base_score=0.5, booster='gbtree', colsample_bylevel=1,\n",
       "       colsample_bytree=0.3, gamma=0, learning_rate=0.2, max_delta_step=0,\n",
       "       max_depth=3, min_child_weight=1, missing=None, n_estimators=100,\n",
       "       n_jobs=1, nthread=None, objective='multi:softmax', random_state=0,\n",
       "       reg_alpha=0, reg_lambda=1, scale_pos_weight=1, seed=None,\n",
       "       silent=True, subsample=1),\n",
       "          fit_params=None, iid='warn', n_iter=10, n_jobs=-1,\n",
       "          param_distributions={'max_depth': [3, 5, 10], 'n_estimators': [50, 100, 150]},\n",
       "          pre_dispatch='2*n_jobs', random_state=None, refit=True,\n",
       "          return_train_score='warn', scoring='accuracy', verbose=10)"
      ]
     },
     "execution_count": 46,
     "metadata": {},
     "output_type": "execute_result"
    }
   ],
   "source": [
    "rs_xgb.fit(X_train,y_train)"
   ]
  },
  {
   "cell_type": "code",
   "execution_count": 47,
   "metadata": {},
   "outputs": [
    {
     "data": {
      "text/plain": [
       "{'n_estimators': 50, 'max_depth': 5}"
      ]
     },
     "execution_count": 47,
     "metadata": {},
     "output_type": "execute_result"
    }
   ],
   "source": [
    "rs_xgb.best_params_"
   ]
  },
  {
   "cell_type": "code",
   "execution_count": 48,
   "metadata": {},
   "outputs": [],
   "source": [
    "pred_train_xgb = rs_xgb.best_estimator_.predict(X_train)\n",
    "pred_test_xgb = rs_xgb.best_estimator_.predict(X_test)"
   ]
  },
  {
   "cell_type": "code",
   "execution_count": 49,
   "metadata": {},
   "outputs": [
    {
     "name": "stdout",
     "output_type": "stream",
     "text": [
      "Accuracy train:  0.6706418533991645\n",
      "Accuracy test:  0.6455042527339003\n"
     ]
    }
   ],
   "source": [
    "print('Accuracy train: ', accuracy_score(y_train, pred_train_xgb))\n",
    "print('Accuracy test: ', accuracy_score(y_test, pred_test_xgb))"
   ]
  },
  {
   "cell_type": "code",
   "execution_count": 50,
   "metadata": {},
   "outputs": [
    {
     "data": {
      "text/plain": [
       "Text(42.0, 0.5, 'True Label')"
      ]
     },
     "execution_count": 50,
     "metadata": {},
     "output_type": "execute_result"
    },
    {
     "data": {
      "image/png": "[encoded data removed]",
      "text/plain": [
       "<Figure size 504x504 with 2 Axes>"
      ]
     },
     "metadata": {
      "needs_background": "light"
     },
     "output_type": "display_data"
    }
   ],
   "source": [
    "cm_xgb = confusion_matrix(y_test, pred_test_xgb)\n",
    "\n",
    "plt.figure(figsize = (7, 7))\n",
    "sns.heatmap(cm_xgb, annot = True, fmt = \".3f\", linewidths = .5, square = True, cmap = \"YlGnBu\")\n",
    "plt.title('XGBoost')\n",
    "plt.xlabel('Predicted Label')\n",
    "plt.ylabel('True Label')"
   ]
  },
  {
   "cell_type": "code",
   "execution_count": 51,
   "metadata": {},
   "outputs": [
    {
     "data": {
      "text/plain": [
       "XGBClassifier(base_score=0.5, booster='gbtree', colsample_bylevel=1,\n",
       "       colsample_bytree=0.3, gamma=0, learning_rate=0.2, max_delta_step=0,\n",
       "       max_depth=5, min_child_weight=1, missing=None, n_estimators=50,\n",
       "       n_jobs=1, nthread=None, objective='multi:softprob', random_state=0,\n",
       "       reg_alpha=0, reg_lambda=1, scale_pos_weight=1, seed=None,\n",
       "       silent=True, subsample=1)"
      ]
     },
     "execution_count": 51,
     "metadata": {},
     "output_type": "execute_result"
    }
   ],
   "source": [
    "rs_xgb.best_estimator_"
   ]
  },
  {
   "cell_type": "code",
   "execution_count": 52,
   "metadata": {},
   "outputs": [],
   "source": [
    "model_pickle_path = 'xgboost_model.pkl'\n",
    "\n",
    "# Create an variable to pickle and open it in write mode\n",
    "model_pickle = open(model_pickle_path, 'wb')\n",
    "pickle.dump(rs_xgb, model_pickle)\n",
    "model_pickle.close()"
   ]
  },
  {
   "cell_type": "code",
   "execution_count": null,
   "metadata": {},
   "outputs": [],
   "source": []
  }
 ],
 "metadata": {
  "kernelspec": {
   "display_name": "Python 3",
   "language": "python",
   "name": "python3"
  },
  "language_info": {
   "codemirror_mode": {
    "name": "ipython",
    "version": 3
   },
   "file_extension": ".py",
   "mimetype": "text/x-python",
   "name": "python",
   "nbconvert_exporter": "python",
   "pygments_lexer": "ipython3",
   "version": "3.7.2"
  },
  "toc": {
   "base_numbering": 1,
   "nav_menu": {},
   "number_sections": true,
   "sideBar": true,
   "skip_h1_title": false,
   "title_cell": "Table of Contents",
   "title_sidebar": "Contents",
   "toc_cell": false,
   "toc_position": {},
   "toc_section_display": true,
   "toc_window_display": true
  }
 },
 "nbformat": 4,
 "nbformat_minor": 2
}
